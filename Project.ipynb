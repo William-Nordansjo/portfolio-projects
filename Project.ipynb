{
 "cells": [
  {
   "cell_type": "markdown",
   "id": "093bfac5",
   "metadata": {},
   "source": [
    "# Breast Cancer Classification Project for DABN22\n",
    "\n",
    "## Introduction\n",
    "In this project, I intend to use machine learning algorithms in order to classify tumors as malignant or benign. The data that will be used is the kaggle dataset \"Breast Cancer Diagnosis Dataset - Wisconsin State\" which contains tumor characteristics as well as professional classifications of tumor types. \n",
    "\n",
    "The aims of this project are three-fold. Firstly, the aim is to import, wrangle and clean the data as well as preforming some simple pre-processing such as label encoding. Secondly, the aim is to train and evaluate some relevant machine learning classification models, and to examine which of the variables that are most important. Finally the intention is to conclude which model is the best and which variables that were most important.\n",
    "\n",
    "## Packages"
   ]
  },
  {
   "cell_type": "code",
   "execution_count": 1,
   "id": "7d7e2352",
   "metadata": {},
   "outputs": [],
   "source": [
    "import pandas as pd\n",
    "import seaborn as sns\n",
    "import statsmodels.api as sm\n",
    "import numpy as np\n",
    "import matplotlib.pyplot as plt\n",
    "\n",
    "#Pre-processing and metrics\n",
    "from sklearn.preprocessing import LabelEncoder, StandardScaler\n",
    "from sklearn.metrics import accuracy_score, confusion_matrix, classification_report, roc_auc_score\n",
    "\n",
    "#Models from scikit-learn\n",
    "from sklearn.model_selection import train_test_split\n",
    "from sklearn.linear_model import LogisticRegression\n",
    "from sklearn.discriminant_analysis import LinearDiscriminantAnalysis, QuadraticDiscriminantAnalysis\n",
    "from sklearn.ensemble import RandomForestClassifier\n",
    "from sklearn.neural_network import MLPClassifier"
   ]
  },
  {
   "cell_type": "markdown",
   "id": "28ffc4c7",
   "metadata": {},
   "source": [
    "# Data\n",
    "## Data wrangling\n",
    "As mentioned in the introduction, the data used is the kaggle dataset \"Breast Cancer Diagnosis Dataset - Wisconsin State\" which contain information on tumor tissue samples. The feature \"Sample code number\" is an unique identifier for each sample and \"Class\" is wether the tumor is benign or malignant. The remaining nine features are 1 to 10 values of tumor characteristics assigned manually following a microscopic examination of the tissue sample."
   ]
  },
  {
   "cell_type": "code",
   "execution_count": 2,
   "id": "182d6af4",
   "metadata": {},
   "outputs": [],
   "source": [
    "features = [\"Sample code number\", \"Clump Thickness\",\n",
    "          \"Uniformity of Cell Size\", \"Uniformity of Cell Shape\",\n",
    "          \"Marginal Adhesion\", \"Single Epithelial Cell Size\",\n",
    "          \"Bare Nuclei\", \"Bland Chromatin\", \"Normal Nucleoli\",\n",
    "          \"Mitoses\", \"Class\"]"
   ]
  },
  {
   "cell_type": "code",
   "execution_count": 3,
   "id": "93e244eb",
   "metadata": {
    "scrolled": true
   },
   "outputs": [
    {
     "data": {
      "text/html": [
       "<div>\n",
       "<style scoped>\n",
       "    .dataframe tbody tr th:only-of-type {\n",
       "        vertical-align: middle;\n",
       "    }\n",
       "\n",
       "    .dataframe tbody tr th {\n",
       "        vertical-align: top;\n",
       "    }\n",
       "\n",
       "    .dataframe thead th {\n",
       "        text-align: right;\n",
       "    }\n",
       "</style>\n",
       "<table border=\"1\" class=\"dataframe\">\n",
       "  <thead>\n",
       "    <tr style=\"text-align: right;\">\n",
       "      <th></th>\n",
       "      <th>Sample code number</th>\n",
       "      <th>Clump Thickness</th>\n",
       "      <th>Uniformity of Cell Size</th>\n",
       "      <th>Uniformity of Cell Shape</th>\n",
       "      <th>Marginal Adhesion</th>\n",
       "      <th>Single Epithelial Cell Size</th>\n",
       "      <th>Bare Nuclei</th>\n",
       "      <th>Bland Chromatin</th>\n",
       "      <th>Normal Nucleoli</th>\n",
       "      <th>Mitoses</th>\n",
       "      <th>Class</th>\n",
       "    </tr>\n",
       "  </thead>\n",
       "  <tbody>\n",
       "    <tr>\n",
       "      <th>0</th>\n",
       "      <td>1000025</td>\n",
       "      <td>5</td>\n",
       "      <td>1</td>\n",
       "      <td>1</td>\n",
       "      <td>1</td>\n",
       "      <td>2</td>\n",
       "      <td>1</td>\n",
       "      <td>3</td>\n",
       "      <td>1</td>\n",
       "      <td>1</td>\n",
       "      <td>2</td>\n",
       "    </tr>\n",
       "    <tr>\n",
       "      <th>1</th>\n",
       "      <td>1002945</td>\n",
       "      <td>5</td>\n",
       "      <td>4</td>\n",
       "      <td>4</td>\n",
       "      <td>5</td>\n",
       "      <td>7</td>\n",
       "      <td>10</td>\n",
       "      <td>3</td>\n",
       "      <td>2</td>\n",
       "      <td>1</td>\n",
       "      <td>2</td>\n",
       "    </tr>\n",
       "    <tr>\n",
       "      <th>2</th>\n",
       "      <td>1015425</td>\n",
       "      <td>3</td>\n",
       "      <td>1</td>\n",
       "      <td>1</td>\n",
       "      <td>1</td>\n",
       "      <td>2</td>\n",
       "      <td>2</td>\n",
       "      <td>3</td>\n",
       "      <td>1</td>\n",
       "      <td>1</td>\n",
       "      <td>2</td>\n",
       "    </tr>\n",
       "    <tr>\n",
       "      <th>3</th>\n",
       "      <td>1016277</td>\n",
       "      <td>6</td>\n",
       "      <td>8</td>\n",
       "      <td>8</td>\n",
       "      <td>1</td>\n",
       "      <td>3</td>\n",
       "      <td>4</td>\n",
       "      <td>3</td>\n",
       "      <td>7</td>\n",
       "      <td>1</td>\n",
       "      <td>2</td>\n",
       "    </tr>\n",
       "    <tr>\n",
       "      <th>4</th>\n",
       "      <td>1017023</td>\n",
       "      <td>4</td>\n",
       "      <td>1</td>\n",
       "      <td>1</td>\n",
       "      <td>3</td>\n",
       "      <td>2</td>\n",
       "      <td>1</td>\n",
       "      <td>3</td>\n",
       "      <td>1</td>\n",
       "      <td>1</td>\n",
       "      <td>2</td>\n",
       "    </tr>\n",
       "  </tbody>\n",
       "</table>\n",
       "</div>"
      ],
      "text/plain": [
       "   Sample code number  Clump Thickness  Uniformity of Cell Size  \\\n",
       "0             1000025                5                        1   \n",
       "1             1002945                5                        4   \n",
       "2             1015425                3                        1   \n",
       "3             1016277                6                        8   \n",
       "4             1017023                4                        1   \n",
       "\n",
       "   Uniformity of Cell Shape  Marginal Adhesion  Single Epithelial Cell Size  \\\n",
       "0                         1                  1                            2   \n",
       "1                         4                  5                            7   \n",
       "2                         1                  1                            2   \n",
       "3                         8                  1                            3   \n",
       "4                         1                  3                            2   \n",
       "\n",
       "  Bare Nuclei  Bland Chromatin  Normal Nucleoli  Mitoses  Class  \n",
       "0           1                3                1        1      2  \n",
       "1          10                3                2        1      2  \n",
       "2           2                3                1        1      2  \n",
       "3           4                3                7        1      2  \n",
       "4           1                3                1        1      2  "
      ]
     },
     "execution_count": 3,
     "metadata": {},
     "output_type": "execute_result"
    }
   ],
   "source": [
    "df = pd.read_csv(\"breast-cancer-wisconsin.data\",\n",
    "                 sep=',',\n",
    "                 names=features)\n",
    "df.head()"
   ]
  },
  {
   "cell_type": "code",
   "execution_count": 4,
   "id": "a20605fc",
   "metadata": {},
   "outputs": [
    {
     "name": "stdout",
     "output_type": "stream",
     "text": [
      "<class 'pandas.core.frame.DataFrame'>\n",
      "RangeIndex: 699 entries, 0 to 698\n",
      "Data columns (total 11 columns):\n",
      " #   Column                       Non-Null Count  Dtype \n",
      "---  ------                       --------------  ----- \n",
      " 0   Sample code number           699 non-null    int64 \n",
      " 1   Clump Thickness              699 non-null    int64 \n",
      " 2   Uniformity of Cell Size      699 non-null    int64 \n",
      " 3   Uniformity of Cell Shape     699 non-null    int64 \n",
      " 4   Marginal Adhesion            699 non-null    int64 \n",
      " 5   Single Epithelial Cell Size  699 non-null    int64 \n",
      " 6   Bare Nuclei                  699 non-null    object\n",
      " 7   Bland Chromatin              699 non-null    int64 \n",
      " 8   Normal Nucleoli              699 non-null    int64 \n",
      " 9   Mitoses                      699 non-null    int64 \n",
      " 10  Class                        699 non-null    int64 \n",
      "dtypes: int64(10), object(1)\n",
      "memory usage: 60.2+ KB\n"
     ]
    }
   ],
   "source": [
    "df.info()"
   ]
  },
  {
   "cell_type": "markdown",
   "id": "f27f503f",
   "metadata": {},
   "source": [
    "The feature *Bare Nuclei* is the wrong data type. And upon changing this, some NAs are introduced. These are accounted for by filling them with the mean value of the feature. The resulting data typ thus becomes float instead of integer as the rest of the dataset, this will be become unimportant when the dataset is standardised later in the analysis."
   ]
  },
  {
   "cell_type": "code",
   "execution_count": 5,
   "id": "12e4163a",
   "metadata": {},
   "outputs": [],
   "source": [
    "df = df.apply(pd.to_numeric, errors='coerce')\n",
    "df.fillna(df.mean(), inplace=True)"
   ]
  },
  {
   "cell_type": "code",
   "execution_count": 6,
   "id": "ac1255cc",
   "metadata": {
    "scrolled": true
   },
   "outputs": [
    {
     "name": "stdout",
     "output_type": "stream",
     "text": [
      "<class 'pandas.core.series.Series'>\n",
      "RangeIndex: 699 entries, 0 to 698\n",
      "Series name: Bare Nuclei\n",
      "Non-Null Count  Dtype  \n",
      "--------------  -----  \n",
      "699 non-null    float64\n",
      "dtypes: float64(1)\n",
      "memory usage: 5.6 KB\n"
     ]
    }
   ],
   "source": [
    "df['Bare Nuclei'].info()"
   ]
  },
  {
   "cell_type": "markdown",
   "id": "b6beb2c7",
   "metadata": {},
   "source": [
    "Finally, a label encoder is applied to \"class\" which assigns benign tumors to *class 0* and malignant tumors to *class 1*. This enables us to phrase questions such as *is the tumor malignant?* and having *Class = 1* be interpeted as *yes*. The feature \"Sample code number\" is also dropped as we dont have a need of identifying a singular tumor from this point."
   ]
  },
  {
   "cell_type": "code",
   "execution_count": 7,
   "id": "fb30baee",
   "metadata": {},
   "outputs": [],
   "source": [
    "le = LabelEncoder()\n",
    "df['Class'] = le.fit_transform(df['Class'])\n",
    "le.classes_ #Benign 0, Malignant 1\n",
    "df.drop(features[0], axis=1, inplace=True)"
   ]
  },
  {
   "cell_type": "markdown",
   "id": "6ee0bf65",
   "metadata": {},
   "source": [
    "# Analysis\n",
    "## Setup\n",
    "In this section the data will be divided first into y and X and then further into test and training data. The split between the training and testing will be 80% of the data as training data and 20% as test data. The X data is also scaled using the StandardScaler to ensure that none of the models encounter any issues with the input data."
   ]
  },
  {
   "cell_type": "code",
   "execution_count": 8,
   "id": "d091742d",
   "metadata": {},
   "outputs": [],
   "source": [
    "X = df.drop('Class', axis=1)\n",
    "y = df['Class']"
   ]
  },
  {
   "cell_type": "code",
   "execution_count": 9,
   "id": "cc369386",
   "metadata": {},
   "outputs": [],
   "source": [
    "X_train, X_test, y_train, y_test = train_test_split(X, y, test_size=0.2, random_state=42)"
   ]
  },
  {
   "cell_type": "code",
   "execution_count": 10,
   "id": "7b6b5c96",
   "metadata": {},
   "outputs": [],
   "source": [
    "scaler = StandardScaler()\n",
    "scaler.fit(X_train)  \n",
    "X_train = scaler.transform(X_train)  \n",
    "X_test = scaler.transform(X_test)  "
   ]
  },
  {
   "cell_type": "markdown",
   "id": "b3d7dcc6",
   "metadata": {},
   "source": [
    "## Models\n",
    "The methods and models used in this project are some standard parametric an non-parametric methods which are commonly used in classification tasks. This project utilizes the general nature of sci-kit learns way of training and fitting various models in order to use a multitude of models by only providing training data to a function and choosing which model to use. This enables us to offload some of the code into a separate script. The exception is the Multi-layer Perceptron classifier which requires some more specific inputs which is aqquired from the scikit-learn documentation page. "
   ]
  },
  {
   "cell_type": "code",
   "execution_count": 11,
   "id": "d4f75be6",
   "metadata": {},
   "outputs": [],
   "source": [
    "from Project_support import fit_and_predict_models"
   ]
  },
  {
   "cell_type": "code",
   "execution_count": 12,
   "id": "2dd12027",
   "metadata": {},
   "outputs": [],
   "source": [
    "#Fitting models and predicting using a custom made function\n",
    "models = {\n",
    "    'Logistic Regression': LogisticRegression(),\n",
    "    'LDA': LinearDiscriminantAnalysis(),\n",
    "    'QDA': QuadraticDiscriminantAnalysis(),\n",
    "    'Random Forest': RandomForestClassifier()\n",
    "}\n",
    "\n",
    "predictions = fit_and_predict_models(models, X_train, y_train, X_test)\n",
    "\n",
    "##Defining and learning the neural network seperately\n",
    "mlp = MLPClassifier(\n",
    "    solver='adam',\n",
    "    alpha=1e-5,\n",
    "    hidden_layer_sizes=(15,),\n",
    "    max_iter = 500,\n",
    "    random_state=42)\n",
    "\n",
    "mlp.fit(X_train, y_train)\n",
    "y_pred_mlp = mlp.predict(X_test)\n",
    "y_pred_prob_mlp = mlp.predict_proba(X_test)[:, 1]"
   ]
  },
  {
   "cell_type": "markdown",
   "id": "a1ed6480",
   "metadata": {},
   "source": [
    "## Evaluation\n",
    "In this part we will examine how the models classified the tumors and the evaluation will consist of three parts. Firstly confusion matrices are generated with a custom made function which show actual vs predicted classifications. Secondly we will look at both accuracies and area under the curve (or AUC-score) of the models and finally we will see how the Random Forest model assigned variable importance.\n",
    "\n",
    "### Confusion matricies"
   ]
  },
  {
   "cell_type": "code",
   "execution_count": 13,
   "id": "beef46b6",
   "metadata": {},
   "outputs": [],
   "source": [
    "from Project_support import plot_confusion_matrices"
   ]
  },
  {
   "cell_type": "code",
   "execution_count": 14,
   "id": "d33e9040",
   "metadata": {},
   "outputs": [
    {
     "data": {
      "image/png": "[encoded data removed]",
      "text/plain": [
       "<Figure size 1800x1200 with 5 Axes>"
      ]
     },
     "metadata": {},
     "output_type": "display_data"
    }
   ],
   "source": [
    "#Extracting predictions\n",
    "y_pred_lr = predictions['Logistic Regression']\n",
    "y_pred_lda = predictions['LDA']\n",
    "y_pred_qda = predictions['QDA']\n",
    "y_pred_rf = predictions['Random Forest']\n",
    "\n",
    "#Creating confusion matricies\n",
    "cm_lr = confusion_matrix(y_test, y_pred_lr)\n",
    "cm_lda = confusion_matrix(y_test, y_pred_lda)\n",
    "cm_qda = confusion_matrix(y_test, y_pred_qda)\n",
    "cm_rf = confusion_matrix(y_test, y_pred_qda)\n",
    "cm_mlp = confusion_matrix(y_test, y_pred_mlp)\n",
    "\n",
    "confusion_matrices = [cm_lr, cm_lda, cm_qda, cm_rf, cm_mlp]\n",
    "titles = ['Logistic Regression', 'LDA', 'QDA', 'Random Forest', 'Multi-layer Perceptron']\n",
    "\n",
    "#Generating confusion matrices using a custom made function\n",
    "plot_confusion_matrices(confusion_matrices, titles)"
   ]
  },
  {
   "cell_type": "markdown",
   "id": "addc9018",
   "metadata": {},
   "source": [
    "The plotted confusion matrices above show that all of the models were quite succesful in assigning the tumor to the correct class. Since the data is concerned with cancer classification, it would be reasonable to prioritise avoiding false negatives where the the model predicts the tumor to be benign but it actually is malignant. This could be achieved by shifting the threshold where the predicted probability assigns the observation to a class untill false negatives become zero. Another point of interest here is that the test dataset is quite unbalance as twice as many tumors were benign compared to malignant."
   ]
  },
  {
   "cell_type": "markdown",
   "id": "1b15f393",
   "metadata": {},
   "source": [
    "### Accuracies and AUCs\n",
    "Accuracy is the percentage of correct classifications, while AUC is the area under the reciever operating curve (ROC) which plots predictive capabilities across different classification thresholds. This means that values close to 1 for both metrics indicate effective models."
   ]
  },
  {
   "cell_type": "code",
   "execution_count": 15,
   "id": "8e108a16",
   "metadata": {},
   "outputs": [],
   "source": [
    "from Project_support import fit_and_predict_probabilites_models, calculate_metrics"
   ]
  },
  {
   "cell_type": "code",
   "execution_count": 16,
   "id": "55ee69de",
   "metadata": {
    "scrolled": true
   },
   "outputs": [
    {
     "name": "stdout",
     "output_type": "stream",
     "text": [
      "                 Model  Accuracy    AUC\n",
      "0  Logistic Regression     0.964  0.996\n",
      "1                  LDA     0.957  0.996\n",
      "2                  QDA     0.950  0.988\n",
      "3        Random Forest     0.964  0.996\n",
      "4                  MLP     0.971  0.997\n"
     ]
    }
   ],
   "source": [
    "#Fitting models and predicting probabilities using a custom made function\n",
    "predicted_probabilities = fit_and_predict_probabilites_models(models, X_train, y_train, X_test)\n",
    "\n",
    "#Manually appending the MLP predictions\n",
    "predictions['MLP'] = y_pred_mlp\n",
    "predicted_probabilities['MLP'] = y_pred_prob_mlp\n",
    "\n",
    "#Calculating metrics using a custom function\n",
    "metrics_df = calculate_metrics(y_test, predictions, predicted_probabilities)\n",
    "print(metrics_df)"
   ]
  },
  {
   "cell_type": "markdown",
   "id": "b615bacb",
   "metadata": {},
   "source": [
    "From the table above, we can clearly see that all models were very succesful, both in terms of accuracy and AUC."
   ]
  },
  {
   "cell_type": "markdown",
   "id": "7d2f629e",
   "metadata": {},
   "source": [
    "### Variable importance"
   ]
  },
  {
   "cell_type": "markdown",
   "id": "b1dbee49",
   "metadata": {},
   "source": [
    "When conducting an analysis with Random Forest and decision trees in general there is a possibility to include variable importance, which is a statistic defined as the mean decrease in impurity resulting from a split. "
   ]
  },
  {
   "cell_type": "code",
   "execution_count": 17,
   "id": "ff1b9636",
   "metadata": {
    "scrolled": true
   },
   "outputs": [
    {
     "data": {
      "text/html": [
       "<div>\n",
       "<style scoped>\n",
       "    .dataframe tbody tr th:only-of-type {\n",
       "        vertical-align: middle;\n",
       "    }\n",
       "\n",
       "    .dataframe tbody tr th {\n",
       "        vertical-align: top;\n",
       "    }\n",
       "\n",
       "    .dataframe thead th {\n",
       "        text-align: right;\n",
       "    }\n",
       "</style>\n",
       "<table border=\"1\" class=\"dataframe\">\n",
       "  <thead>\n",
       "    <tr style=\"text-align: right;\">\n",
       "      <th></th>\n",
       "      <th>Feature</th>\n",
       "      <th>Importance</th>\n",
       "    </tr>\n",
       "  </thead>\n",
       "  <tbody>\n",
       "    <tr>\n",
       "      <th>2</th>\n",
       "      <td>Uniformity of Cell Shape</td>\n",
       "      <td>0.292698</td>\n",
       "    </tr>\n",
       "    <tr>\n",
       "      <th>1</th>\n",
       "      <td>Uniformity of Cell Size</td>\n",
       "      <td>0.215664</td>\n",
       "    </tr>\n",
       "    <tr>\n",
       "      <th>5</th>\n",
       "      <td>Bare Nuclei</td>\n",
       "      <td>0.170237</td>\n",
       "    </tr>\n",
       "    <tr>\n",
       "      <th>6</th>\n",
       "      <td>Bland Chromatin</td>\n",
       "      <td>0.102734</td>\n",
       "    </tr>\n",
       "    <tr>\n",
       "      <th>7</th>\n",
       "      <td>Normal Nucleoli</td>\n",
       "      <td>0.086737</td>\n",
       "    </tr>\n",
       "    <tr>\n",
       "      <th>4</th>\n",
       "      <td>Single Epithelial Cell Size</td>\n",
       "      <td>0.062375</td>\n",
       "    </tr>\n",
       "    <tr>\n",
       "      <th>0</th>\n",
       "      <td>Clump Thickness</td>\n",
       "      <td>0.044721</td>\n",
       "    </tr>\n",
       "    <tr>\n",
       "      <th>3</th>\n",
       "      <td>Marginal Adhesion</td>\n",
       "      <td>0.019627</td>\n",
       "    </tr>\n",
       "    <tr>\n",
       "      <th>8</th>\n",
       "      <td>Mitoses</td>\n",
       "      <td>0.005206</td>\n",
       "    </tr>\n",
       "  </tbody>\n",
       "</table>\n",
       "</div>"
      ],
      "text/plain": [
       "                       Feature  Importance\n",
       "2     Uniformity of Cell Shape    0.292698\n",
       "1      Uniformity of Cell Size    0.215664\n",
       "5                  Bare Nuclei    0.170237\n",
       "6              Bland Chromatin    0.102734\n",
       "7              Normal Nucleoli    0.086737\n",
       "4  Single Epithelial Cell Size    0.062375\n",
       "0              Clump Thickness    0.044721\n",
       "3            Marginal Adhesion    0.019627\n",
       "8                      Mitoses    0.005206"
      ]
     },
     "execution_count": 17,
     "metadata": {},
     "output_type": "execute_result"
    }
   ],
   "source": [
    "rf = RandomForestClassifier()\n",
    "rf.fit(X_train, y_train)\n",
    "\n",
    "importances = rf.feature_importances_\n",
    "\n",
    "feature_names = [\"Clump Thickness\",\n",
    "          \"Uniformity of Cell Size\", \"Uniformity of Cell Shape\",\n",
    "          \"Marginal Adhesion\", \"Single Epithelial Cell Size\",\n",
    "          \"Bare Nuclei\", \"Bland Chromatin\", \"Normal Nucleoli\",\n",
    "          \"Mitoses\"]\n",
    "\n",
    "feature_importances_df = pd.DataFrame({\n",
    "    'Feature': feature_names,\n",
    "    'Importance': importances\n",
    "})\n",
    "\n",
    "feature_importances_df = feature_importances_df.sort_values(by='Importance', ascending=False)\n",
    "feature_importances_df"
   ]
  },
  {
   "cell_type": "markdown",
   "id": "c05462c0",
   "metadata": {},
   "source": [
    "As can be seen from the table above, the uniformity of cell size and shape was the most important feature that the Random Forest model used in order to predict the class of the tumors. This statistic is somewhat problematic however, since it is derived from the training data we can not make any certain statement on which features are most important to make good predictions on other data. "
   ]
  },
  {
   "cell_type": "markdown",
   "id": "57953098",
   "metadata": {},
   "source": [
    "# Conclusion\n",
    "This project has aimed to use the data from Winsconsin State in order to predict the *type* of breast cancer tumors using various machine learning models. In the first step, the data was cleaned and repaired succesfully, furthermore the data was scaled before model application. The models were then created with a \"blackbox\" approach where a custom made function only used the data and model choice as inputs (with exception of the Multi-layer Perceptron (MLP) model which required some additional specification) was used. A point of potential future imporvement is that tuning parameters for the MLP and Random Forest models could have been cross-validated. Furthermore, the evaluation was carried out in three steps: Firstly the confusion matrices were considered where all models performed very good and quite similar to each other, we also noted that we had an imbalanced test dataset. Accuracies and the models AUCs were then examined and all of the models again preformed really good with both metrics in the high 90's for all models. This does not neccesarily mean that the larger problem is particularly easy, rather that the dataset was *kind* and included a lot the potential variation needed to make correct predictions. We also found what the Random Forest algorithm ranked as the most important features that it itself used to predict the classes, these were *Uniformity of Cell Size* and *Uniformity of Cell Shape*. \n",
    "\n",
    "In conclusion this project successfully used five machine learning models to predict the the *type* of breast cancer tumors using data of tumor characteristics described by manual observations."
   ]
  }
 ],
 "metadata": {
  "kernelspec": {
   "display_name": "Python 3 (ipykernel)",
   "language": "python",
   "name": "python3"
  },
  "language_info": {
   "codemirror_mode": {
    "name": "ipython",
    "version": 3
   },
   "file_extension": ".py",
   "mimetype": "text/x-python",
   "name": "python",
   "nbconvert_exporter": "python",
   "pygments_lexer": "ipython3",
   "version": "3.9.13"
  }
 },
 "nbformat": 4,
 "nbformat_minor": 5
}
