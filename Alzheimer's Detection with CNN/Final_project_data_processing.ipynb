{
 "cells": [
  {
   "cell_type": "markdown",
   "id": "c2421fbc-c123-4b82-9ddb-5c2188d1b417",
   "metadata": {},
   "source": [
    "### Code For Pre-processing Images and Data Splitting"
   ]
  },
  {
   "cell_type": "code",
   "execution_count": null,
   "id": "ad6c3bec-19c6-4f8a-aef5-6b12cebbdb34",
   "metadata": {},
   "outputs": [],
   "source": [
    "import os\n",
    "import numpy as np\n",
    "from tensorflow.keras.preprocessing.image import ImageDataGenerator, load_img, img_to_array\n",
    "import shutil\n",
    "import random\n",
    "os.environ['TF_CPP_MIN_LOG_LEVEL'] = '1'  ## To turn off debugging information \n"
   ]
  },
  {
   "cell_type": "markdown",
   "id": "d4715001-b875-4d7f-831e-e505a512627f",
   "metadata": {},
   "source": [
    "### Downloading data from Kaggle"
   ]
  },
  {
   "cell_type": "code",
   "execution_count": 1,
   "id": "e6b34441-7c35-4c61-bc39-3bb2a772e5e9",
   "metadata": {},
   "outputs": [
    {
     "name": "stdout",
     "output_type": "stream",
     "text": [
      "📥 Download the dataset from: https://www.kaggle.com/datasets/ninadaithal/imagesoasis/data\n"
     ]
    }
   ],
   "source": [
    "dataset_url = \"https://www.kaggle.com/datasets/ninadaithal/imagesoasis/data\"\n",
    "\n",
    "print(f\"📥 Download the dataset from: {dataset_url}\")"
   ]
  },
  {
   "cell_type": "markdown",
   "id": "af0eb2b1-2f75-44f9-82ed-247a3f1cdef2",
   "metadata": {},
   "source": [
    "### Doubling Amount of Images in Category Moderate Dementia "
   ]
  },
  {
   "cell_type": "code",
   "execution_count": null,
   "id": "d2e08661-54bf-43d9-a961-d7f077deee59",
   "metadata": {},
   "outputs": [],
   "source": [
    "# Data augmentation\n",
    "\n",
    "# Set paths\n",
    "category_dir = \"/Your/Directory/Moderate Dementia\"  # Change this to your image category folder\n",
    "\n",
    "# Create an output directory if it doesn't exist\n",
    "os.makedirs(category_dir, exist_ok=True)\n",
    "\n",
    "# Count existing images\n",
    "image_files = [f for f in os.listdir(category_dir) if f.lower().endswith(('.png', '.jpg', '.jpeg'))]\n",
    "num_original = len(image_files)\n",
    "num_new_needed = num_original  # Double the dataset size\n",
    "\n",
    "print(f\"Original images: {num_original}\")\n",
    "print(f\"New images to generate: {num_new_needed}\")\n",
    "\n",
    "# Define augmentation settings\n",
    "datagen = ImageDataGenerator(\n",
    "    rotation_range=25,      # Rotate images randomly\n",
    "    width_shift_range=0.2,  # Shift horizontally\n",
    "    height_shift_range=0.2, # Shift vertically\n",
    "    shear_range=0.15,       # Shear transformation\n",
    "    zoom_range=0.2,         # Random zoom\n",
    "    horizontal_flip=True,   # Flip images\n",
    "    fill_mode='nearest',     # Fill empty areas\n",
    "    #validation_split=0.2\n",
    ")\n",
    "\n",
    "# Generate and save augmented images\n",
    "new_image_count = 0\n",
    "\n",
    "for img_name in image_files:\n",
    "    if new_image_count >= num_new_needed:\n",
    "        break  # Stop when dataset is doubled\n",
    "\n",
    "    img_path = os.path.join(category_dir, img_name)\n",
    "\n",
    "    # Load and preprocess image\n",
    "    img = load_img(img_path)  \n",
    "    img_array = img_to_array(img)  \n",
    "    img_array = np.expand_dims(img_array, axis=0)  \n",
    "\n",
    "    # Generate augmented images\n",
    "    aug_iter = datagen.flow(img_array, batch_size=1, save_to_dir=category_dir, save_prefix=\"aug\", save_format=\"jpeg\")\n",
    "\n",
    "    # Save 1 new image per original\n",
    "    next(aug_iter)\n",
    "    new_image_count += 1\n",
    "\n",
    "print(f\"✅ Augmentation complete. Total images now: {num_original + new_image_count}\")\n"
   ]
  },
  {
   "cell_type": "markdown",
   "id": "4e660b0a-6506-4734-8f7e-7f9d07e3650d",
   "metadata": {},
   "source": [
    "### Sampling 900 Images From Each Category in Dataset"
   ]
  },
  {
   "cell_type": "code",
   "execution_count": null,
   "id": "205adc06-ec38-40f0-967f-4cdafab39551",
   "metadata": {},
   "outputs": [],
   "source": [
    "# Sampling 900 images from each category\n",
    "\n",
    "# Define paths\n",
    "dataset_path = \"/Your/Directory/folder_with_data\" # Change this to your image folder\n",
    "output_path = \"/Your/Directory/folder_with_sampled_data\" # Change this to your output folder with sampled images\n",
    "\n",
    "# Define class names and sample sizes\n",
    "classes = {\n",
    "    \"Mild Dementia\": 900,    # Class 0\n",
    "    \"Moderate Dementia\": 900, # Class 1 \n",
    "    \"Non Demented\": 900,     # Class 2\n",
    "    \"Very mild Dementia\": 900 # Class 3\n",
    "}\n",
    "\n",
    "# Ensure output directory exists\n",
    "os.makedirs(output_path, exist_ok=True)\n",
    "\n",
    "for class_name, sample_size in classes.items():\n",
    "    class_path = os.path.join(dataset_path, class_name)\n",
    "    output_class_path = os.path.join(output_path, class_name)\n",
    "    os.makedirs(output_class_path, exist_ok=True)\n",
    "\n",
    "    # List all files in the class directory\n",
    "    all_files = os.listdir(class_path)\n",
    "\n",
    "    # Randomly select required samples\n",
    "    selected_files = random.sample(all_files, sample_size)\n",
    "\n",
    "    # Copy selected files to new directory\n",
    "    for file in selected_files:\n",
    "        src = os.path.join(class_path, file)\n",
    "        dst = os.path.join(output_class_path, file)\n",
    "        shutil.copy(src, dst)\n",
    "\n",
    "print(\"Subset extraction complete.\")"
   ]
  },
  {
   "cell_type": "markdown",
   "id": "9d6fb5d2-c41a-4473-ba94-b955f715d9b8",
   "metadata": {},
   "source": [
    "### Splitting Data from Sampled Folders Into Training, Validation and Testing"
   ]
  },
  {
   "cell_type": "code",
   "execution_count": null,
   "id": "ad6b8673-0481-4b0f-9d6a-908b05bb91a4",
   "metadata": {},
   "outputs": [],
   "source": [
    "# Splitting folders into training, validation and testing\n",
    "\n",
    "# Define paths\n",
    "original_dataset_dir = \"/Your/Directory/folder_with_sampled_data\"  # Folder with 900 images per class\n",
    "base_dir = \"/Your/Directory/folder_with_sampled_data/Train,val,test\"  # New dataset folder\n",
    "\n",
    "# Define target folders\n",
    "train_dir = os.path.join(base_dir, \"train\")\n",
    "val_dir = os.path.join(base_dir, \"val\")\n",
    "test_dir = os.path.join(base_dir, \"test\")\n",
    "\n",
    "# Create new directories\n",
    "for directory in [train_dir, val_dir, test_dir]:\n",
    "    os.makedirs(directory, exist_ok=True)\n",
    "\n",
    "# Loop through each class and split images\n",
    "for class_name in os.listdir(original_dataset_dir):\n",
    "    class_path = os.path.join(original_dataset_dir, class_name)\n",
    "    \n",
    "    if not os.path.isdir(class_path):  # Skip non-folder files\n",
    "        continue\n",
    "\n",
    "    # Get all images in the class folder\n",
    "    images = os.listdir(class_path)\n",
    "    images = [img for img in images if img.endswith(('.png', '.jpg', '.jpeg'))]  # Filter image files\n",
    "    random.shuffle(images)  # Shuffle for randomness\n",
    "\n",
    "    # Split data: 10% test, 90% remaining\n",
    "    test_split = int(0.10 * len(images))  # 10% for testing\n",
    "    test_images = images[:test_split]\n",
    "    remaining_images = images[test_split:]\n",
    "\n",
    "    # Split remaining 90% into 80% train, 20% validation\n",
    "    train_split = int(0.80 * len(remaining_images))  # 80% of remaining images for training\n",
    "    train_images = remaining_images[:train_split]\n",
    "    val_images = remaining_images[train_split:]\n",
    "\n",
    "    # Create class directories in train, val, test folders\n",
    "    for sub_dir in [train_dir, val_dir, test_dir]:\n",
    "        os.makedirs(os.path.join(sub_dir, class_name), exist_ok=True)\n",
    "\n",
    "    # Move images to respective directories\n",
    "    for img in train_images:\n",
    "        shutil.copy(os.path.join(class_path, img), os.path.join(train_dir, class_name, img))\n",
    "\n",
    "    for img in val_images:\n",
    "        shutil.copy(os.path.join(class_path, img), os.path.join(val_dir, class_name, img))\n",
    "\n",
    "    for img in test_images:\n",
    "        shutil.copy(os.path.join(class_path, img), os.path.join(test_dir, class_name, img))\n",
    "\n",
    "    print(f\"Class '{class_name}': Train={len(train_images)}, Val={len(val_images)}, Test={len(test_images)}\")\n",
    "\n",
    "print(\"✅ Dataset splitting complete!\")\n"
   ]
  },
 ],
 "metadata": {
  "kernelspec": {
   "display_name": "Python 3 (ipykernel)",
   "language": "python",
   "name": "python3"
  },
  "language_info": {
   "codemirror_mode": {
    "name": "ipython",
    "version": 3
   },
   "file_extension": ".py",
   "mimetype": "text/x-python",
   "name": "python",
   "nbconvert_exporter": "python",
   "pygments_lexer": "ipython3",
   "version": "3.10.16"
  }
 },
 "nbformat": 4,
 "nbformat_minor": 5
}
